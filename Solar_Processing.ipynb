{
 "cells": [
  {
   "cell_type": "markdown",
   "id": "1ed93ba6-f2b1-460c-ba74-3d78ce5222e3",
   "metadata": {},
   "source": [
    "# Import the dependencies"
   ]
  },
  {
   "cell_type": "code",
   "execution_count": 1,
   "id": "2a1d3210-87b2-4076-82a5-eae600eee630",
   "metadata": {},
   "outputs": [],
   "source": [
    "import pandas as pd\n",
    "import openpyxl as xl\n",
    "import json"
   ]
  },
  {
   "cell_type": "markdown",
   "id": "42b969b8-80ab-4696-aee8-ac8aa49746b1",
   "metadata": {},
   "source": [
    "# Prepare the DataFrame"
   ]
  },
  {
   "cell_type": "code",
   "execution_count": 7,
   "id": "cd8679c0-aa1c-47a8-be5e-1f1cfc2568b4",
   "metadata": {},
   "outputs": [
    {
     "data": {
      "text/html": [
       "<div>\n",
       "<style scoped>\n",
       "    .dataframe tbody tr th:only-of-type {\n",
       "        vertical-align: middle;\n",
       "    }\n",
       "\n",
       "    .dataframe tbody tr th {\n",
       "        vertical-align: top;\n",
       "    }\n",
       "\n",
       "    .dataframe thead th {\n",
       "        text-align: right;\n",
       "    }\n",
       "</style>\n",
       "<table border=\"1\" class=\"dataframe\">\n",
       "  <thead>\n",
       "    <tr style=\"text-align: right;\">\n",
       "      <th></th>\n",
       "      <th>Category</th>\n",
       "      <th>Total-1</th>\n",
       "      <th>Total-2</th>\n",
       "    </tr>\n",
       "  </thead>\n",
       "  <tbody>\n",
       "    <tr>\n",
       "      <th>0</th>\n",
       "      <td>Income</td>\n",
       "      <td>NaN</td>\n",
       "      <td>NaN</td>\n",
       "    </tr>\n",
       "    <tr>\n",
       "      <th>1</th>\n",
       "      <td>Sales of Product Income</td>\n",
       "      <td>NaN</td>\n",
       "      <td>0</td>\n",
       "    </tr>\n",
       "    <tr>\n",
       "      <th>2</th>\n",
       "      <td>Sales</td>\n",
       "      <td>4284649.34</td>\n",
       "      <td>4284649.34</td>\n",
       "    </tr>\n",
       "    <tr>\n",
       "      <th>3</th>\n",
       "      <td>Total Sales of Product Income</td>\n",
       "      <td>4284649.34</td>\n",
       "      <td>4284649.34</td>\n",
       "    </tr>\n",
       "    <tr>\n",
       "      <th>4</th>\n",
       "      <td>Total Income</td>\n",
       "      <td>4284649.34</td>\n",
       "      <td>4284649.34</td>\n",
       "    </tr>\n",
       "  </tbody>\n",
       "</table>\n",
       "</div>"
      ],
      "text/plain": [
       "                           Category     Total-1     Total-2\n",
       "0                            Income         NaN         NaN\n",
       "1           Sales of Product Income         NaN           0\n",
       "2                             Sales  4284649.34  4284649.34\n",
       "3     Total Sales of Product Income  4284649.34  4284649.34\n",
       "4                      Total Income  4284649.34  4284649.34"
      ]
     },
     "execution_count": 7,
     "metadata": {},
     "output_type": "execute_result"
    }
   ],
   "source": [
    "# file path\n",
    "file_path = \"D://Abdelrahman//acc_project//Files QuickBooks//INTRO SOLAR//06 Jun 2024 SOLAR.xlsx\"\n",
    "\n",
    "# Re-load the Excel file skipping the first 3 rows\n",
    "df = pd.read_excel(file_path, skiprows=3)\n",
    "\n",
    "# Drop any rows where all elements are NaN\n",
    "df.dropna(how='all', inplace=True)\n",
    "\n",
    "# Find the index where \"Income\" appears in the first column\n",
    "income_index = df[df.iloc[:, 0] == 'Income'].index[0]\n",
    "\n",
    "# Skip all rows before \"Income\"\n",
    "df = df.iloc[income_index:]\n",
    "\n",
    "# Rename the columns as \"Category\", \"Total-1\", \"Total-2\"\n",
    "df.columns = [\"Category\", \"Total-1\", \"Total-2\"]\n",
    "\n",
    "# Reset the index for the DataFrame\n",
    "df.reset_index(drop=True, inplace=True)\n",
    "\n",
    "# Display the first few rows to confirm\n",
    "df.head()"
   ]
  },
  {
   "cell_type": "markdown",
   "id": "88bc354d-560a-4385-9ca5-2136dbce081d",
   "metadata": {},
   "source": [
    "# Prepare the hierarchy "
   ]
  },
  {
   "cell_type": "code",
   "execution_count": 9,
   "id": "0f744b35-e685-4138-bfb6-c7bb8484675e",
   "metadata": {},
   "outputs": [
    {
     "data": {
      "text/plain": [
       "'solar-structured_data.json'"
      ]
     },
     "execution_count": 9,
     "metadata": {},
     "output_type": "execute_result"
    }
   ],
   "source": [
    "# Initialize an empty list to hold the structured data\n",
    "structured_data = []\n",
    "\n",
    "# Initialize variables to keep track of the current parent and subparent\n",
    "current_parent = None\n",
    "current_subparent = None\n",
    "\n",
    "# Iterate through the DataFrame to define the hierarchy\n",
    "for index, row in df.iterrows():\n",
    "    category = row[\"Category\"].strip()\n",
    "    total_1 = row[\"Total-1\"]\n",
    "    total_2 = row[\"Total-2\"]\n",
    "    \n",
    "    # Treat \"Gross Profit\" and \"Net Earnings\" as parents regardless of totals\n",
    "    if category in [\"Gross Profit\", \"Net Earnings\"] or (pd.isna(total_1) and pd.isna(total_2)):\n",
    "        # It's a parent\n",
    "        current_parent = {\n",
    "            \"category\": category,\n",
    "            \"type\": \"parent\",\n",
    "            \"children\": []\n",
    "        }\n",
    "        structured_data.append(current_parent)\n",
    "        current_subparent = None  # Reset subparent\n",
    "        \n",
    "        # Break the loop if \"Net Earnings\" is encountered\n",
    "        if category == \"Net Earnings\":\n",
    "            break\n",
    "    elif pd.isna(total_1) and total_2 == 0:\n",
    "        # It's a subparent under the current parent\n",
    "        current_subparent = {\n",
    "            \"category\": category,\n",
    "            \"type\": \"subparent\",\n",
    "            \"children\": []\n",
    "        }\n",
    "        if current_parent is not None:\n",
    "            current_parent[\"children\"].append(current_subparent)\n",
    "    elif not pd.isna(total_1) and not pd.isna(total_2):\n",
    "        # It's a child under the current parent or subparent\n",
    "        child = {\n",
    "            \"category\": category,\n",
    "            \"type\": \"child\",\n",
    "            \"Total\": total_1\n",
    "        }\n",
    "        if current_subparent is not None:\n",
    "            current_subparent[\"children\"].append(child)\n",
    "        elif current_parent is not None:\n",
    "            current_parent[\"children\"].append(child)\n",
    "\n",
    "# Save the structured data to a JSON file\n",
    "import json\n",
    "\n",
    "output_path = 'solar-structured_data.json'\n",
    "with open(output_path, 'w') as json_file:\n",
    "    json.dump(structured_data, json_file, indent=4)\n",
    "\n",
    "output_path\n"
   ]
  },
  {
   "cell_type": "code",
   "execution_count": null,
   "id": "f19224b6-5dc7-44c4-976b-8be18d56ae08",
   "metadata": {},
   "outputs": [],
   "source": []
  }
 ],
 "metadata": {
  "kernelspec": {
   "display_name": "Python 3 (ipykernel)",
   "language": "python",
   "name": "python3"
  },
  "language_info": {
   "codemirror_mode": {
    "name": "ipython",
    "version": 3
   },
   "file_extension": ".py",
   "mimetype": "text/x-python",
   "name": "python",
   "nbconvert_exporter": "python",
   "pygments_lexer": "ipython3",
   "version": "3.12.4"
  }
 },
 "nbformat": 4,
 "nbformat_minor": 5
}
